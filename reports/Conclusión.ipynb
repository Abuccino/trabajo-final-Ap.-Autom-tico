{
 "cells": [
  {
   "cell_type": "markdown",
   "id": "1c5b7e24",
   "metadata": {},
   "source": [
    "Conclusión \n",
    "De acuerdo a la hipótesis del trabajo ¿se pueden predecir las enfermedades no transmisibles de acuerdo a los factores de riesgos? Teniendo en  cuenta las condiciones demográficas y de salud de la población se evaluó la posibilidad de desarrollar la diabetes mellitus tomando dos variables la primera es la prevalencia de diabetes y la otra es el índice FINDRISC, que es la posibilidad de desarrollar diabetes mellitus en los próximos 10 años. A través de la comparación de tres modelos\n",
    "Resultados para la variable prevalencia de diabetes\n",
    "•\tRegresión Lineal Múltiple (LinearRegression):\n",
    "o\tMSE: 3.65296385088139e-31\n",
    "o\tR²: 1.0\n",
    "•\tÁrbol de Decisión (DecisionTreeRegressor):\n",
    "o\tMSE: 0.0\n",
    "o\tR²: 1.0\n",
    "•\tMáquinas de Soporte Vectorial (SVR):\n",
    "o\tMSE: 0.011486195530000362\n",
    "o\tR²: 0.9106538076273543\n",
    "•\tSupport Vector Regressor (SVR) final ajuste de hiperparámetros: \n",
    "o\tMSE : 0.0039\n",
    "o\t R²:  0.963\n",
    "Los modelos de Regresión Lineal y Árbol de Decisión mostraron un ajuste perfecto en los datos de entrenamiento, con un R² de 1.0 y un MSE extremadamente bajo para el árbol de decisión. En consecuencia, estos resultados sugieren un posible sobreajuste, Esto conduce a un rendimiento deficiente con datos nuevos y desconocidos\n",
    "El modelo SVR mostró un rendimiento ligeramente inferior pero aún muy alto, con un R² de aproximadamente 0.91 y un MSE muy bajo. Este modelo podría ser más robusto y consistente frente a nuevos datos. Sin embargo, al ajustar los hiperparámetros, el modelo alcanzó un MSE muy bajo y un R² de 0.963, explicando el 96.3% de la variabilidad. Esto indica un alto nivel de precisión y capacidad explicativa.\n",
    "Resultados para la variable FINDIRSC\n",
    "•\tRegresión Lineal Múltiple (LinearRegression):\n",
    "o\tMSE: 0.6964197080816318\n",
    "o\tR²: 0.43905246886028326\n",
    "•\tÁrbol de Decisión (DecisionTreeRegressor):\n",
    "o\tMSE: 2.090909090909091\n",
    "o\tR²: -0.6841715976331362\n",
    "•\tMáquinas de Soporte Vectorial (SVR):\n",
    "o\tMSE: 0.5995618596581396\n",
    "o\tR²: 0.5170688867102707\n",
    "\n",
    "Regresión Lineal Múltiple: Mostró un rendimiento moderado con un R² de 0.439 y un MSE de 0.696. Esto indica que el modelo puede explicar aproximadamente el 44% de la variabilidad en la prevalencia de diabetes. Lo que indica que el modelo tiene un porcentaje muy bajo para poder predecir los nuevos datos.\n",
    "Árbol de Decisión: Mostró un rendimiento pobre con un R² negativo de -0.684 y un MSE alto de 2.091. Un R² negativo sugiere que el modelo no es adecuado para los datos.\n",
    "SVR: Mostró el mejor rendimiento con un R² de 0.517 y un MSE de 0.600. Esto indica que el modelo SVR puede explicar aproximadamente el 52% de la variabilidad en la prevalencia de diabetes, siendo el mejor entre los tres modelos evaluados, aunque sigue siendo muy bajo el porcentaje de variabilidad.\n",
    "\n",
    "Por último decidí evaluar todas las provincias que tenga similar condiciones climáticas para evidenciar si el aumento de casos podía mejorar el modelo de aprendizaje y así tener mejores predicciones para la diabetes mellitus.\n",
    "Resultados para la Patagonia\n",
    "•\tRegresión Lineal Múltiple (LinearRegression):\n",
    "o\tMSE: 1.348568245892349e-30\n",
    "o\tR²: 1.0\n",
    "•\tÁrbol de Decisión (DecisionTreeRegressor):\n",
    "o\tMSE: 0.0\n",
    "o\tR²: 1.0\n",
    "•\tMáquinas de Soporte Vectorial (SVR):\n",
    "o\tMSE: 0.005119718267134216\n",
    "o\tR²: 0.9505124105671228\n",
    "\n",
    "Los modelos de Regresión Lineal y Árbol de Decisión mostraron un ajuste perfecto en los datos de entrenamiento, con un R² de 1.0 y un MSE extremadamente bajo. Sin embargo, estos resultados indican un posible sobreajuste.\n",
    "El modelo SVR mostró un rendimiento ligeramente inferior pero aún muy alto, con un R² de aproximadamente 0.95 y un MSE muy bajo. Este modelo podría ser más robusto frente a nuevos datos.\n",
    "Conclusión Final\n",
    "En resumen, el proyecto logró desarrollar modelos predictivos con un alto grado de precisión para la prevalencia de diabetes. Aunque los modelos de Regresión Lineal y Árbol de Decisión mostraron un ajuste perfecto en los datos de entrenamiento y esto puede evidenciar que hay un sobreajuste, el modelo SVR demostró ser una opción más robusta y confiable para predicciones futuras con un buen porcentaje de variabilidad en el primer caso con el 96% con el modelo SRV.\n",
    "En consecuencia, este modelo podría ayudar a la población en anticipar la probabilidad de tener diabetes en el futuro y así modificar aquellos factores de riesgo para mejorar su calidad de vida.\n"
   ]
  }
 ],
 "metadata": {
  "kernelspec": {
   "display_name": "Python 3 (ipykernel)",
   "language": "python",
   "name": "python3"
  },
  "language_info": {
   "codemirror_mode": {
    "name": "ipython",
    "version": 3
   },
   "file_extension": ".py",
   "mimetype": "text/x-python",
   "name": "python",
   "nbconvert_exporter": "python",
   "pygments_lexer": "ipython3",
   "version": "3.11.4"
  }
 },
 "nbformat": 4,
 "nbformat_minor": 5
}
