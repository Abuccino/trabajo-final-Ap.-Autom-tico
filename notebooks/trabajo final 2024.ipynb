{
 "cells": [
  {
   "cell_type": "code",
   "execution_count": 1,
   "id": "001d24c2",
   "metadata": {},
   "outputs": [],
   "source": [
    "import pandas as pd\n",
    "import matplotlib as pyplot\n"
   ]
  },
  {
   "cell_type": "code",
   "execution_count": 2,
   "id": "643f844b",
   "metadata": {},
   "outputs": [],
   "source": [
    " ents= pd.read_table(\"Base usuario.txt\", delimiter=\"|\")"
   ]
  },
  {
   "cell_type": "code",
   "execution_count": 3,
   "id": "68eec97d",
   "metadata": {},
   "outputs": [
    {
     "name": "stdout",
     "output_type": "stream",
     "text": [
      "               id  cod_provincia  region  tamanio_aglomerado  aglomerado  \\\n",
      "0         1128639              2       1                   1           1   \n",
      "1         1709939              2       1                   1           1   \n",
      "2         6874130              2       1                   1           1   \n",
      "3        10319375              2       1                   1           1   \n",
      "4        11140857              2       1                   1           1   \n",
      "...           ...            ...     ...                 ...         ...   \n",
      "29219  2092256226             94       6                   4           9   \n",
      "29220  2097771079             94       6                   4           9   \n",
      "29221  2101464264             94       6                   4           9   \n",
      "29222  2116612011             94       6                   4           9   \n",
      "29223  2134624977             94       6                   4           9   \n",
      "\n",
      "       localidades_150  submuestra  bhcv01  bhcv02  bhcv03  ...  \\\n",
      "0                    1           1       3       2       1  ...   \n",
      "1                    1           0       1       4       1  ...   \n",
      "2                    1           0       3       2       1  ...   \n",
      "3                    1           1       3       1       1  ...   \n",
      "4                    1           0       3       3       1  ...   \n",
      "...                ...         ...     ...     ...     ...  ...   \n",
      "29219                0           0       1       2       1  ...   \n",
      "29220                0           1       1       4       1  ...   \n",
      "29221                0           1       1       3       1  ...   \n",
      "29222                0           0       1       5       1  ...   \n",
      "29223                0           1       1       3       1  ...   \n",
      "\n",
      "       glucemia_elevada  prevalencia_glucemia_elevada_combinada  findrisc  \\\n",
      "0                   NaN                                     NaN       2.0   \n",
      "1                   NaN                                     NaN       NaN   \n",
      "2                   NaN                                     NaN       NaN   \n",
      "3                   NaN                                     NaN       NaN   \n",
      "4                   NaN                                     NaN       NaN   \n",
      "...                 ...                                     ...       ...   \n",
      "29219               NaN                                     NaN       NaN   \n",
      "29220               NaN                                     NaN       3.0   \n",
      "29221               NaN                                     NaN       3.0   \n",
      "29222               NaN                                     NaN       NaN   \n",
      "29223               NaN                                     NaN       NaN   \n",
      "\n",
      "       bimq06  bimq06_01  colesterol_elevado  \\\n",
      "0         NaN        NaN                 NaN   \n",
      "1         NaN        NaN                 NaN   \n",
      "2         NaN        NaN                 NaN   \n",
      "3         NaN        NaN                 NaN   \n",
      "4         NaN        NaN                 NaN   \n",
      "...       ...        ...                 ...   \n",
      "29219     NaN        NaN                 NaN   \n",
      "29220     NaN        NaN                 NaN   \n",
      "29221     NaN        NaN                 NaN   \n",
      "29222     NaN        NaN                 NaN   \n",
      "29223     NaN        NaN                 NaN   \n",
      "\n",
      "       prevalencia_colesterol_combinada  wf1p  wf2p  wf3p  \n",
      "0                                   NaN  2378  4464     0  \n",
      "1                                   NaN  3588     0     0  \n",
      "2                                   NaN  2740     0     0  \n",
      "3                                   NaN   493     0     0  \n",
      "4                                   NaN  2016     0     0  \n",
      "...                                 ...   ...   ...   ...  \n",
      "29219                               NaN   203     0     0  \n",
      "29220                               NaN  1042  1530     0  \n",
      "29221                               NaN   441   813     0  \n",
      "29222                               NaN   544     0     0  \n",
      "29223                               NaN   220   402     0  \n",
      "\n",
      "[29224 rows x 287 columns]\n"
     ]
    }
   ],
   "source": [
    "print(ents)"
   ]
  },
  {
   "cell_type": "code",
   "execution_count": 4,
   "id": "515d8e5b",
   "metadata": {},
   "outputs": [
    {
     "name": "stdout",
     "output_type": "stream",
     "text": [
      "<class 'pandas.core.frame.DataFrame'>\n",
      "RangeIndex: 29224 entries, 0 to 29223\n",
      "Columns: 287 entries, id to wf3p\n",
      "dtypes: float64(186), int64(101)\n",
      "memory usage: 64.0 MB\n",
      "None\n"
     ]
    }
   ],
   "source": [
    "print(ents.info())"
   ]
  },
  {
   "cell_type": "code",
   "execution_count": 5,
   "id": "abd7f33d",
   "metadata": {},
   "outputs": [],
   "source": [
    "filtrado_por_provincia = ents.loc[ents[\"cod_provincia\"].isin([94])]"
   ]
  },
  {
   "cell_type": "code",
   "execution_count": 6,
   "id": "c55d0476",
   "metadata": {},
   "outputs": [
    {
     "name": "stdout",
     "output_type": "stream",
     "text": [
      "               id  cod_provincia  region  tamanio_aglomerado  aglomerado  \\\n",
      "28903     7411356             94       6                   4           9   \n",
      "28904    11724781             94       6                   4           9   \n",
      "28905    14809972             94       6                   4           9   \n",
      "28906    19436879             94       6                   4           9   \n",
      "28907    27291858             94       6                   4           9   \n",
      "...           ...            ...     ...                 ...         ...   \n",
      "29219  2092256226             94       6                   4           9   \n",
      "29220  2097771079             94       6                   4           9   \n",
      "29221  2101464264             94       6                   4           9   \n",
      "29222  2116612011             94       6                   4           9   \n",
      "29223  2134624977             94       6                   4           9   \n",
      "\n",
      "       localidades_150  submuestra  bhcv01  bhcv02  bhcv03  ...  \\\n",
      "28903                0           1       3       1       1  ...   \n",
      "28904                0           1       1       1       1  ...   \n",
      "28905                0           1       1       3       1  ...   \n",
      "28906                0           1       3       3       1  ...   \n",
      "28907                0           1       1       5       1  ...   \n",
      "...                ...         ...     ...     ...     ...  ...   \n",
      "29219                0           0       1       2       1  ...   \n",
      "29220                0           1       1       4       1  ...   \n",
      "29221                0           1       1       3       1  ...   \n",
      "29222                0           0       1       5       1  ...   \n",
      "29223                0           1       1       3       1  ...   \n",
      "\n",
      "       glucemia_elevada  prevalencia_glucemia_elevada_combinada  findrisc  \\\n",
      "28903               NaN                                     NaN       2.0   \n",
      "28904               NaN                                     NaN       NaN   \n",
      "28905               NaN                                     NaN       1.0   \n",
      "28906               NaN                                     NaN       3.0   \n",
      "28907               NaN                                     NaN       3.0   \n",
      "...                 ...                                     ...       ...   \n",
      "29219               NaN                                     NaN       NaN   \n",
      "29220               NaN                                     NaN       3.0   \n",
      "29221               NaN                                     NaN       3.0   \n",
      "29222               NaN                                     NaN       NaN   \n",
      "29223               NaN                                     NaN       NaN   \n",
      "\n",
      "       bimq06  bimq06_01  colesterol_elevado  \\\n",
      "28903     NaN        NaN                 NaN   \n",
      "28904     NaN        NaN                 NaN   \n",
      "28905     NaN        NaN                 NaN   \n",
      "28906     NaN        NaN                 NaN   \n",
      "28907     NaN        NaN                 NaN   \n",
      "...       ...        ...                 ...   \n",
      "29219     NaN        NaN                 NaN   \n",
      "29220     NaN        NaN                 NaN   \n",
      "29221     NaN        NaN                 NaN   \n",
      "29222     NaN        NaN                 NaN   \n",
      "29223     NaN        NaN                 NaN   \n",
      "\n",
      "       prevalencia_colesterol_combinada  wf1p  wf2p  wf3p  \n",
      "28903                               NaN   421   857     0  \n",
      "28904                               NaN   234     0     0  \n",
      "28905                               NaN   557  1178     0  \n",
      "28906                               NaN   537   788     0  \n",
      "28907                               NaN   350   792     0  \n",
      "...                                 ...   ...   ...   ...  \n",
      "29219                               NaN   203     0     0  \n",
      "29220                               NaN  1042  1530     0  \n",
      "29221                               NaN   441   813     0  \n",
      "29222                               NaN   544     0     0  \n",
      "29223                               NaN   220   402     0  \n",
      "\n",
      "[321 rows x 287 columns]\n"
     ]
    }
   ],
   "source": [
    "print(filtrado_por_provincia)"
   ]
  },
  {
   "cell_type": "code",
   "execution_count": 7,
   "id": "fef72134",
   "metadata": {},
   "outputs": [
    {
     "name": "stdout",
     "output_type": "stream",
     "text": [
      "Index(['id', 'cod_provincia', 'region', 'tamanio_aglomerado', 'aglomerado',\n",
      "       'localidades_150', 'submuestra', 'bhcv01', 'bhcv02', 'bhcv03',\n",
      "       ...\n",
      "       'glucemia_elevada', 'prevalencia_glucemia_elevada_combinada',\n",
      "       'findrisc', 'bimq06', 'bimq06_01', 'colesterol_elevado',\n",
      "       'prevalencia_colesterol_combinada', 'wf1p', 'wf2p', 'wf3p'],\n",
      "      dtype='object', length=287)\n"
     ]
    }
   ],
   "source": [
    "columns_name=filtrado_por_provincia.columns\n",
    "print(columns_name)"
   ]
  },
  {
   "cell_type": "code",
   "execution_count": 8,
   "id": "026309d9",
   "metadata": {},
   "outputs": [
    {
     "name": "stdout",
     "output_type": "stream",
     "text": [
      "<class 'pandas.core.frame.DataFrame'>\n",
      "Int64Index: 321 entries, 28903 to 29223\n",
      "Columns: 287 entries, id to wf3p\n",
      "dtypes: float64(186), int64(101)\n",
      "memory usage: 722.2 KB\n"
     ]
    }
   ],
   "source": [
    "filtrado_por_provincia.info()"
   ]
  },
  {
   "cell_type": "code",
   "execution_count": 9,
   "id": "792f691f",
   "metadata": {},
   "outputs": [
    {
     "data": {
      "text/html": [
       "<div>\n",
       "<style scoped>\n",
       "    .dataframe tbody tr th:only-of-type {\n",
       "        vertical-align: middle;\n",
       "    }\n",
       "\n",
       "    .dataframe tbody tr th {\n",
       "        vertical-align: top;\n",
       "    }\n",
       "\n",
       "    .dataframe thead th {\n",
       "        text-align: right;\n",
       "    }\n",
       "</style>\n",
       "<table border=\"1\" class=\"dataframe\">\n",
       "  <thead>\n",
       "    <tr style=\"text-align: right;\">\n",
       "      <th></th>\n",
       "      <th>id</th>\n",
       "      <th>cod_provincia</th>\n",
       "      <th>region</th>\n",
       "      <th>tamanio_aglomerado</th>\n",
       "      <th>aglomerado</th>\n",
       "      <th>localidades_150</th>\n",
       "      <th>submuestra</th>\n",
       "      <th>bhcv01</th>\n",
       "      <th>bhcv02</th>\n",
       "      <th>bhcv03</th>\n",
       "      <th>...</th>\n",
       "      <th>glucemia_elevada</th>\n",
       "      <th>prevalencia_glucemia_elevada_combinada</th>\n",
       "      <th>findrisc</th>\n",
       "      <th>bimq06</th>\n",
       "      <th>bimq06_01</th>\n",
       "      <th>colesterol_elevado</th>\n",
       "      <th>prevalencia_colesterol_combinada</th>\n",
       "      <th>wf1p</th>\n",
       "      <th>wf2p</th>\n",
       "      <th>wf3p</th>\n",
       "    </tr>\n",
       "  </thead>\n",
       "  <tbody>\n",
       "    <tr>\n",
       "      <th>count</th>\n",
       "      <td>3.210000e+02</td>\n",
       "      <td>321.0</td>\n",
       "      <td>321.0</td>\n",
       "      <td>321.0</td>\n",
       "      <td>321.0</td>\n",
       "      <td>321.0</td>\n",
       "      <td>321.000000</td>\n",
       "      <td>321.000000</td>\n",
       "      <td>321.000000</td>\n",
       "      <td>321.000000</td>\n",
       "      <td>...</td>\n",
       "      <td>0.0</td>\n",
       "      <td>0.0</td>\n",
       "      <td>151.000000</td>\n",
       "      <td>0.0</td>\n",
       "      <td>0.0</td>\n",
       "      <td>0.0</td>\n",
       "      <td>0.0</td>\n",
       "      <td>321.000000</td>\n",
       "      <td>321.000000</td>\n",
       "      <td>321.0</td>\n",
       "    </tr>\n",
       "    <tr>\n",
       "      <th>mean</th>\n",
       "      <td>1.046839e+09</td>\n",
       "      <td>94.0</td>\n",
       "      <td>6.0</td>\n",
       "      <td>4.0</td>\n",
       "      <td>9.0</td>\n",
       "      <td>0.0</td>\n",
       "      <td>0.750779</td>\n",
       "      <td>1.576324</td>\n",
       "      <td>3.330218</td>\n",
       "      <td>1.059190</td>\n",
       "      <td>...</td>\n",
       "      <td>NaN</td>\n",
       "      <td>NaN</td>\n",
       "      <td>2.317881</td>\n",
       "      <td>NaN</td>\n",
       "      <td>NaN</td>\n",
       "      <td>NaN</td>\n",
       "      <td>NaN</td>\n",
       "      <td>344.461059</td>\n",
       "      <td>344.411215</td>\n",
       "      <td>0.0</td>\n",
       "    </tr>\n",
       "    <tr>\n",
       "      <th>std</th>\n",
       "      <td>6.143385e+08</td>\n",
       "      <td>0.0</td>\n",
       "      <td>0.0</td>\n",
       "      <td>0.0</td>\n",
       "      <td>0.0</td>\n",
       "      <td>0.0</td>\n",
       "      <td>0.433237</td>\n",
       "      <td>0.908949</td>\n",
       "      <td>1.358994</td>\n",
       "      <td>0.334829</td>\n",
       "      <td>...</td>\n",
       "      <td>NaN</td>\n",
       "      <td>NaN</td>\n",
       "      <td>1.207592</td>\n",
       "      <td>NaN</td>\n",
       "      <td>NaN</td>\n",
       "      <td>NaN</td>\n",
       "      <td>NaN</td>\n",
       "      <td>269.461325</td>\n",
       "      <td>437.883253</td>\n",
       "      <td>0.0</td>\n",
       "    </tr>\n",
       "    <tr>\n",
       "      <th>min</th>\n",
       "      <td>7.411356e+06</td>\n",
       "      <td>94.0</td>\n",
       "      <td>6.0</td>\n",
       "      <td>4.0</td>\n",
       "      <td>9.0</td>\n",
       "      <td>0.0</td>\n",
       "      <td>0.000000</td>\n",
       "      <td>1.000000</td>\n",
       "      <td>1.000000</td>\n",
       "      <td>1.000000</td>\n",
       "      <td>...</td>\n",
       "      <td>NaN</td>\n",
       "      <td>NaN</td>\n",
       "      <td>1.000000</td>\n",
       "      <td>NaN</td>\n",
       "      <td>NaN</td>\n",
       "      <td>NaN</td>\n",
       "      <td>NaN</td>\n",
       "      <td>62.000000</td>\n",
       "      <td>0.000000</td>\n",
       "      <td>0.0</td>\n",
       "    </tr>\n",
       "    <tr>\n",
       "      <th>25%</th>\n",
       "      <td>5.293222e+08</td>\n",
       "      <td>94.0</td>\n",
       "      <td>6.0</td>\n",
       "      <td>4.0</td>\n",
       "      <td>9.0</td>\n",
       "      <td>0.0</td>\n",
       "      <td>1.000000</td>\n",
       "      <td>1.000000</td>\n",
       "      <td>2.000000</td>\n",
       "      <td>1.000000</td>\n",
       "      <td>...</td>\n",
       "      <td>NaN</td>\n",
       "      <td>NaN</td>\n",
       "      <td>1.000000</td>\n",
       "      <td>NaN</td>\n",
       "      <td>NaN</td>\n",
       "      <td>NaN</td>\n",
       "      <td>NaN</td>\n",
       "      <td>180.000000</td>\n",
       "      <td>0.000000</td>\n",
       "      <td>0.0</td>\n",
       "    </tr>\n",
       "    <tr>\n",
       "      <th>50%</th>\n",
       "      <td>1.027767e+09</td>\n",
       "      <td>94.0</td>\n",
       "      <td>6.0</td>\n",
       "      <td>4.0</td>\n",
       "      <td>9.0</td>\n",
       "      <td>0.0</td>\n",
       "      <td>1.000000</td>\n",
       "      <td>1.000000</td>\n",
       "      <td>3.000000</td>\n",
       "      <td>1.000000</td>\n",
       "      <td>...</td>\n",
       "      <td>NaN</td>\n",
       "      <td>NaN</td>\n",
       "      <td>2.000000</td>\n",
       "      <td>NaN</td>\n",
       "      <td>NaN</td>\n",
       "      <td>NaN</td>\n",
       "      <td>NaN</td>\n",
       "      <td>269.000000</td>\n",
       "      <td>216.000000</td>\n",
       "      <td>0.0</td>\n",
       "    </tr>\n",
       "    <tr>\n",
       "      <th>75%</th>\n",
       "      <td>1.595135e+09</td>\n",
       "      <td>94.0</td>\n",
       "      <td>6.0</td>\n",
       "      <td>4.0</td>\n",
       "      <td>9.0</td>\n",
       "      <td>0.0</td>\n",
       "      <td>1.000000</td>\n",
       "      <td>3.000000</td>\n",
       "      <td>4.000000</td>\n",
       "      <td>1.000000</td>\n",
       "      <td>...</td>\n",
       "      <td>NaN</td>\n",
       "      <td>NaN</td>\n",
       "      <td>3.000000</td>\n",
       "      <td>NaN</td>\n",
       "      <td>NaN</td>\n",
       "      <td>NaN</td>\n",
       "      <td>NaN</td>\n",
       "      <td>421.000000</td>\n",
       "      <td>540.000000</td>\n",
       "      <td>0.0</td>\n",
       "    </tr>\n",
       "    <tr>\n",
       "      <th>max</th>\n",
       "      <td>2.134625e+09</td>\n",
       "      <td>94.0</td>\n",
       "      <td>6.0</td>\n",
       "      <td>4.0</td>\n",
       "      <td>9.0</td>\n",
       "      <td>0.0</td>\n",
       "      <td>1.000000</td>\n",
       "      <td>4.000000</td>\n",
       "      <td>10.000000</td>\n",
       "      <td>4.000000</td>\n",
       "      <td>...</td>\n",
       "      <td>NaN</td>\n",
       "      <td>NaN</td>\n",
       "      <td>5.000000</td>\n",
       "      <td>NaN</td>\n",
       "      <td>NaN</td>\n",
       "      <td>NaN</td>\n",
       "      <td>NaN</td>\n",
       "      <td>2404.000000</td>\n",
       "      <td>2383.000000</td>\n",
       "      <td>0.0</td>\n",
       "    </tr>\n",
       "  </tbody>\n",
       "</table>\n",
       "<p>8 rows × 287 columns</p>\n",
       "</div>"
      ],
      "text/plain": [
       "                 id  cod_provincia  region  tamanio_aglomerado  aglomerado  \\\n",
       "count  3.210000e+02          321.0   321.0               321.0       321.0   \n",
       "mean   1.046839e+09           94.0     6.0                 4.0         9.0   \n",
       "std    6.143385e+08            0.0     0.0                 0.0         0.0   \n",
       "min    7.411356e+06           94.0     6.0                 4.0         9.0   \n",
       "25%    5.293222e+08           94.0     6.0                 4.0         9.0   \n",
       "50%    1.027767e+09           94.0     6.0                 4.0         9.0   \n",
       "75%    1.595135e+09           94.0     6.0                 4.0         9.0   \n",
       "max    2.134625e+09           94.0     6.0                 4.0         9.0   \n",
       "\n",
       "       localidades_150  submuestra      bhcv01      bhcv02      bhcv03  ...  \\\n",
       "count            321.0  321.000000  321.000000  321.000000  321.000000  ...   \n",
       "mean               0.0    0.750779    1.576324    3.330218    1.059190  ...   \n",
       "std                0.0    0.433237    0.908949    1.358994    0.334829  ...   \n",
       "min                0.0    0.000000    1.000000    1.000000    1.000000  ...   \n",
       "25%                0.0    1.000000    1.000000    2.000000    1.000000  ...   \n",
       "50%                0.0    1.000000    1.000000    3.000000    1.000000  ...   \n",
       "75%                0.0    1.000000    3.000000    4.000000    1.000000  ...   \n",
       "max                0.0    1.000000    4.000000   10.000000    4.000000  ...   \n",
       "\n",
       "       glucemia_elevada  prevalencia_glucemia_elevada_combinada    findrisc  \\\n",
       "count               0.0                                     0.0  151.000000   \n",
       "mean                NaN                                     NaN    2.317881   \n",
       "std                 NaN                                     NaN    1.207592   \n",
       "min                 NaN                                     NaN    1.000000   \n",
       "25%                 NaN                                     NaN    1.000000   \n",
       "50%                 NaN                                     NaN    2.000000   \n",
       "75%                 NaN                                     NaN    3.000000   \n",
       "max                 NaN                                     NaN    5.000000   \n",
       "\n",
       "       bimq06  bimq06_01  colesterol_elevado  \\\n",
       "count     0.0        0.0                 0.0   \n",
       "mean      NaN        NaN                 NaN   \n",
       "std       NaN        NaN                 NaN   \n",
       "min       NaN        NaN                 NaN   \n",
       "25%       NaN        NaN                 NaN   \n",
       "50%       NaN        NaN                 NaN   \n",
       "75%       NaN        NaN                 NaN   \n",
       "max       NaN        NaN                 NaN   \n",
       "\n",
       "       prevalencia_colesterol_combinada         wf1p         wf2p   wf3p  \n",
       "count                               0.0   321.000000   321.000000  321.0  \n",
       "mean                                NaN   344.461059   344.411215    0.0  \n",
       "std                                 NaN   269.461325   437.883253    0.0  \n",
       "min                                 NaN    62.000000     0.000000    0.0  \n",
       "25%                                 NaN   180.000000     0.000000    0.0  \n",
       "50%                                 NaN   269.000000   216.000000    0.0  \n",
       "75%                                 NaN   421.000000   540.000000    0.0  \n",
       "max                                 NaN  2404.000000  2383.000000    0.0  \n",
       "\n",
       "[8 rows x 287 columns]"
      ]
     },
     "execution_count": 9,
     "metadata": {},
     "output_type": "execute_result"
    }
   ],
   "source": [
    "filtrado_por_provincia.describe()"
   ]
  },
  {
   "cell_type": "code",
   "execution_count": 10,
   "id": "0aba69f8",
   "metadata": {},
   "outputs": [
    {
     "name": "stdout",
     "output_type": "stream",
     "text": [
      "id                                    0\n",
      "cod_provincia                         0\n",
      "region                                0\n",
      "tamanio_aglomerado                    0\n",
      "aglomerado                            0\n",
      "                                   ... \n",
      "colesterol_elevado                  321\n",
      "prevalencia_colesterol_combinada    321\n",
      "wf1p                                  0\n",
      "wf2p                                  0\n",
      "wf3p                                  0\n",
      "Length: 287, dtype: int64\n"
     ]
    }
   ],
   "source": [
    "nulos_por_columna = filtrado_por_provincia.isnull().sum()\n",
    "print(nulos_por_columna)"
   ]
  },
  {
   "cell_type": "code",
   "execution_count": 12,
   "id": "56329326",
   "metadata": {},
   "outputs": [
    {
     "name": "stdout",
     "output_type": "stream",
     "text": [
      "['bhcv10', 'bhcv11', 'bhho01', 'bhih01_02', 'rango_ingreso', 'imputado', 'bhch10_01_j', 'bhch10_02_j', 'bhch10_03_j', 'bhch10_04_j', 'bhch10_05_j', 'bhch10_06_j', 'bhch10_99_j', 'bhsl02', 'bhsl03', 'bhsl04', 'bhsl05', 'bhsl06', 'bhch10_01', 'bhch10_02', 'bhch10_03', 'bhch10_04', 'bhch10_05', 'bhch10_06', 'bhch10_99', 'bisl02', 'bisl03', 'bisl04', 'bisl05', 'bisl06', 'biaf02_m', 'biaf02_99', 'biaf04_m', 'biaf04_99', 'biaf06_m', 'biaf06_99', 'biaf07_m', 'biaf07_99', 'biaf08', 'biaf09', 'biaf10_01', 'biaf10_02', 'biaf10_03', 'biaf10_04', 'nivel_actividad_fisica', 'bita02', 'bita02_99', 'bita03', 'bita04', 'bita04_01', 'bita04_02', 'bita05', 'bita06_a', 'bita06_b', 'bita06_b_99', 'bita06_c', 'bita06_d', 'bita07', 'bita07_99', 'bita08', 'bita15', 'ta_paquete_y_armado', 'ta_dejar_fumar', 'hta_nofumadores', 'ta_perc_publicidad', 'ta_percepcion_riesgo', 'imagenes_tabaco', 'biha02', 'biha04', 'biha05_01', 'biha05_02', 'biha06', 'biha06_99', 'biha07', 'biha08', 'biha09', 'biha10', 'biha11', 'biha11_99', 'biha12', 'biha13', 'biha14', 'biha15', 'prevalencia_hipertension', 'bipc02', 'bipc03', 'bipc04', 'bipc04_99', 'bipc05', 'bipc05_99', 'imc', 'bial03', 'bial03_99', 'bial04', 'bial04_99', 'bial05', 'bial05_99', 'bial06', 'bial06_99', 'bial09', 'promedio_fv_diario', 'tipo_dieta_razones', 'bico02', 'bico04', 'bico05_01', 'bico05_02', 'control_colesterol', 'prevalencia_colesterol', 'bica02', 'bica03_01', 'bica03_02', 'bica03_99', 'bica04_01_b', 'bica04_01_c', 'bica04_02_b', 'bica04_02_c', 'bica04_03_b', 'bica04_03_c', 'bica04_04', 'bica05_01_b', 'bica05_01_c', 'bica05_02_b', 'bica05_02_c', 'bica05_03_b', 'bica05_03_c', 'bica05_04', 'bica06', 'bidi02', 'bidi03', 'bidi04_01', 'bidi04_02', 'bidi04_03', 'bidi05', 'bidi08', 'bidi09', 'bidi10', 'bidi11', 'bidi12', 'bidi13', 'bidi14', 'bipp01', 'bipp02', 'bipp03', 'bipp04', 'control_mamografia', 'control_pap', 'bicc01_01', 'bicc01_02', 'bicc01_03', 'bicc02', 'bicc03', 'control_colon', 'bima01', 'bima02', 'bima03', 'bima04_01_a', 'bima04_01_b', 'bima04_02_a', 'bima04_02_b', 'bima04_03_a', 'bima04_03_b', 'promedio_sistolica', 'promedio_diastolica', 'ta_elevada', 'prevalencia_hipertension_combinada', 'bima06', 'bima07', 'bima09', 'bima10', 'imc_bima', 'imc_categorias_bima', 'bima12', 'bima13', 'bima14', 'bimq01', 'bimq05', 'bimq05_01', 'glucemia_elevada', 'prevalencia_glucemia_elevada_combinada', 'findrisc', 'bimq06', 'bimq06_01', 'colesterol_elevado', 'prevalencia_colesterol_combinada']\n"
     ]
    }
   ],
   "source": [
    "columnas_con_nulos = nulos_por_columna[nulos_por_columna > 0].index.tolist()\n",
    "print(columnas_con_nulos)"
   ]
  },
  {
   "cell_type": "code",
   "execution_count": 15,
   "id": "d8077e5e",
   "metadata": {},
   "outputs": [
    {
     "name": "stdout",
     "output_type": "stream",
     "text": [
      "321\n"
     ]
    }
   ],
   "source": [
    "nulos_glucemia_elevada =filtrado_por_provincia['glucemia_elevada'].isnull().sum()\n",
    "print(nulos_glucemia_elevada)"
   ]
  },
  {
   "cell_type": "code",
   "execution_count": 16,
   "id": "110ecc04",
   "metadata": {},
   "outputs": [
    {
     "name": "stdout",
     "output_type": "stream",
     "text": [
      "321\n"
     ]
    }
   ],
   "source": [
    "nulos_colesterol_elevada =filtrado_por_provincia['colesterol_elevado'].isnull().sum()\n",
    "print(nulos_colesterol_elevada)"
   ]
  },
  {
   "cell_type": "code",
   "execution_count": 17,
   "id": "74d8b3ec",
   "metadata": {},
   "outputs": [
    {
     "name": "stdout",
     "output_type": "stream",
     "text": [
      "133\n"
     ]
    }
   ],
   "source": [
    "nulos_ta_elevada =filtrado_por_provincia['ta_elevada'].isnull().sum()\n",
    "print(nulos_ta_elevada)"
   ]
  },
  {
   "cell_type": "code",
   "execution_count": 18,
   "id": "c1b2d678",
   "metadata": {},
   "outputs": [
    {
     "name": "stdout",
     "output_type": "stream",
     "text": [
      "321\n"
     ]
    }
   ],
   "source": [
    "nulos_bimq05_elevada =filtrado_por_provincia['bimq05'].isnull().sum()\n",
    "print(nulos_bimq05_elevada)"
   ]
  },
  {
   "cell_type": "code",
   "execution_count": null,
   "id": "7588b002",
   "metadata": {},
   "outputs": [],
   "source": []
  }
 ],
 "metadata": {
  "kernelspec": {
   "display_name": "Python 3 (ipykernel)",
   "language": "python",
   "name": "python3"
  },
  "language_info": {
   "codemirror_mode": {
    "name": "ipython",
    "version": 3
   },
   "file_extension": ".py",
   "mimetype": "text/x-python",
   "name": "python",
   "nbconvert_exporter": "python",
   "pygments_lexer": "ipython3",
   "version": "3.11.4"
  }
 },
 "nbformat": 4,
 "nbformat_minor": 5
}
